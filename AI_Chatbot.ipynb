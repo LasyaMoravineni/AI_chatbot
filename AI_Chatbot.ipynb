{
  "nbformat": 4,
  "nbformat_minor": 0,
  "metadata": {
    "colab": {
      "provenance": [],
      "authorship_tag": "ABX9TyNS3J4MECrJcfZqppENGYY1",
      "include_colab_link": true
    },
    "kernelspec": {
      "name": "python3",
      "display_name": "Python 3"
    },
    "language_info": {
      "name": "python"
    }
  },
  "cells": [
    {
      "cell_type": "markdown",
      "metadata": {
        "id": "view-in-github",
        "colab_type": "text"
      },
      "source": [
        "<a href=\"https://colab.research.google.com/github/LasyaMoravineni/AI_chatbot/blob/main/AI_Chatbot.ipynb\" target=\"_parent\"><img src=\"https://colab.research.google.com/assets/colab-badge.svg\" alt=\"Open In Colab\"/></a>"
      ]
    },
    {
      "cell_type": "code",
      "execution_count": null,
      "metadata": {
        "id": "ersrAEdDUREb"
      },
      "outputs": [],
      "source": [
        "# Install Gradio\n",
        "!pip install gradio\n",
        "\n",
        "# Import required libraries\n",
        "import json\n",
        "import pandas as pd\n",
        "import nltk\n",
        "import string\n",
        "import gradio as gr\n",
        "from nltk.stem import WordNetLemmatizer\n",
        "from nltk.tokenize import word_tokenize\n",
        "from sklearn.feature_extraction.text import TfidfVectorizer\n",
        "from sklearn.linear_model import LogisticRegression\n",
        "from sklearn.preprocessing import LabelEncoder\n"
      ]
    },
    {
      "cell_type": "code",
      "source": [
        "nltk.download('punkt')\n",
        "nltk.download('wordnet')\n",
        "nltk.download('punkt_tab')\n"
      ],
      "metadata": {
        "id": "W8Y99wt7WPJj"
      },
      "execution_count": null,
      "outputs": []
    },
    {
      "cell_type": "code",
      "source": [
        "# Mental health intents dataset (you can customize further)\n",
        "intents = {\n",
        "  \"intents\": [\n",
        "    {\n",
        "      \"tag\": \"greeting\",\n",
        "      \"patterns\": [\"Hi\", \"Hello\", \"Hey\", \"Is anyone there?\", \"Good morning\", \"Good evening\"],\n",
        "      \"responses\": [\"Hello, I'm here for you. How can I help today?\"]\n",
        "    },\n",
        "    {\n",
        "      \"tag\": \"sadness\",\n",
        "      \"patterns\": [\"I'm feeling sad\", \"I am depressed\", \"Life is hard\", \"I feel low\", \"I'm down\", \"Crying a lot lately\"],\n",
        "      \"responses\": [\"I'm really sorry you're feeling this way. Do you want to talk more about what's been going on?\"]\n",
        "    },\n",
        "    {\n",
        "      \"tag\": \"anxiety\",\n",
        "      \"patterns\": [\"I'm anxious\", \"I can't calm down\", \"Feeling nervous\", \"I'm panicking\", \"My heart is racing\"],\n",
        "      \"responses\": [\"Try taking a few deep breaths. Would you like me to guide you through a calming exercise?\"]\n",
        "    },\n",
        "    {\n",
        "      \"tag\": \"loneliness\",\n",
        "      \"patterns\": [\"I feel alone\", \"Nobody understands me\", \"I'm lonely\", \"No one to talk to\"],\n",
        "      \"responses\": [\"You’re not alone right now — I'm here with you. Want to share what's on your mind?\"]\n",
        "    },\n",
        "    {\n",
        "      \"tag\": \"burnout\",\n",
        "      \"patterns\": [\"I'm exhausted\", \"I'm burnt out\", \"Too much pressure\", \"I can't handle this workload\"],\n",
        "      \"responses\": [\"It’s okay to take a break. Rest is essential, not a weakness. Want to talk through it?\"]\n",
        "    },\n",
        "    {\n",
        "      \"tag\": \"self_esteem\",\n",
        "      \"patterns\": [\"I hate myself\", \"I'm not good enough\", \"I always fail\", \"No one likes me\"],\n",
        "      \"responses\": [\"You matter. Everyone struggles sometimes, but that doesn't define your worth. Want to talk more?\"]\n",
        "    },\n",
        "    {\n",
        "      \"tag\": \"suicidal_thoughts\",\n",
        "      \"patterns\": [\"I want to die\", \"I don't want to live\", \"Thinking of ending it\", \"No reason to go on\"],\n",
        "      \"responses\": [\n",
        "        \"I'm so sorry you're feeling this way. You're not alone, and your life is valuable. Please consider speaking to a mental health professional or calling a helpline.\"\n",
        "      ]\n",
        "    },\n",
        "    {\n",
        "      \"tag\": \"motivation\",\n",
        "      \"patterns\": [\"I need motivation\", \"Feeling unmotivated\", \"Can't keep going\", \"Nothing's working out\"],\n",
        "      \"responses\": [\n",
        "        \"You're stronger than you think. Every step forward, even the smallest one, is progress. I'm cheering for you.\"\n",
        "      ]\n",
        "    },\n",
        "    {\n",
        "      \"tag\": \"sleep_issues\",\n",
        "      \"patterns\": [\"I can't sleep\", \"I'm having trouble sleeping\", \"Restless at night\", \"Keep waking up\"],\n",
        "      \"responses\": [\"Poor sleep can be tough. Would you like some tips on better sleep habits?\"]\n",
        "    },\n",
        "    {\n",
        "      \"tag\": \"coping_strategies\",\n",
        "      \"patterns\": [\"How do I deal with stress?\", \"Any coping strategies?\", \"How to manage anxiety?\", \"Help me handle pressure\"],\n",
        "      \"responses\": [\"There are many healthy coping strategies like journaling, deep breathing, or talking to someone. Want to try one together?\"]\n",
        "    },\n",
        "    {\n",
        "      \"tag\": \"thanks\",\n",
        "      \"patterns\": [\"Thanks\", \"Thank you\", \"Much appreciated\", \"You're helpful\"],\n",
        "      \"responses\": [\"You're welcome. I'm glad I could be here for you.\"]\n",
        "    },\n",
        "    {\n",
        "      \"tag\": \"goodbye\",\n",
        "      \"patterns\": [\"Bye\", \"Goodbye\", \"See you\", \"Talk later\", \"I'm done for now\"],\n",
        "      \"responses\": [\"Take care. I’m always here if you need someone to talk to again.\"]\n",
        "    }\n",
        "  ]\n",
        "}\n",
        "# Save intents to JSON file\n",
        "with open(\"intents.json\", \"w\") as f:\n",
        "    json.dump(intents, f)\n"
      ],
      "metadata": {
        "id": "qdIOXJ37WSw6"
      },
      "execution_count": null,
      "outputs": []
    },
    {
      "cell_type": "code",
      "source": [
        "# Load intents\n",
        "with open(\"intents.json\") as file:\n",
        "    data = json.load(file)\n",
        "\n",
        "texts = []\n",
        "labels = []\n",
        "responses_dict = {}\n",
        "\n",
        "for intent in data[\"intents\"]:\n",
        "    for pattern in intent[\"patterns\"]:\n",
        "        texts.append(pattern)\n",
        "        labels.append(intent[\"tag\"])\n",
        "    responses_dict[intent[\"tag\"]] = intent[\"responses\"]\n",
        "\n",
        "df = pd.DataFrame({\"Text\": texts, \"Intent\": labels})\n",
        "\n",
        "# Preprocessing\n",
        "lemmatizer = WordNetLemmatizer()\n",
        "\n",
        "def preprocess(text):\n",
        "    tokens = word_tokenize(text.lower())\n",
        "    tokens = [lemmatizer.lemmatize(word) for word in tokens if word not in string.punctuation]\n",
        "    return \" \".join(tokens)\n",
        "\n",
        "df['Cleaned'] = df['Text'].apply(preprocess)\n"
      ],
      "metadata": {
        "id": "pFO1VfD-WgAJ"
      },
      "execution_count": null,
      "outputs": []
    },
    {
      "cell_type": "code",
      "source": [
        "# Vectorize and train\n",
        "vectorizer = TfidfVectorizer()\n",
        "X = vectorizer.fit_transform(df['Cleaned'])\n",
        "\n",
        "encoder = LabelEncoder()\n",
        "y = encoder.fit_transform(df['Intent'])\n",
        "\n",
        "model = LogisticRegression()\n",
        "model.fit(X, y)\n"
      ],
      "metadata": {
        "id": "oJw8jSRqWiky"
      },
      "execution_count": null,
      "outputs": []
    },
    {
      "cell_type": "code",
      "source": [
        "def chatbot_response(user_input):\n",
        "    cleaned = preprocess(user_input)\n",
        "    vector = vectorizer.transform([cleaned])\n",
        "    prediction = model.predict(vector)\n",
        "    intent = encoder.inverse_transform(prediction)[0]\n",
        "    response = responses_dict[intent]\n",
        "    return response[0]\n"
      ],
      "metadata": {
        "id": "bRqB8VuoaN-i"
      },
      "execution_count": null,
      "outputs": []
    },
    {
      "cell_type": "code",
      "source": [
        "import gradio as gr\n",
        "\n",
        "def chatbot_response(user_input):\n",
        "    cleaned = preprocess(user_input)\n",
        "    vector = vectorizer.transform([cleaned])\n",
        "    prediction = model.predict(vector)\n",
        "    intent = encoder.inverse_transform(prediction)[0]\n",
        "    response = responses_dict[intent]\n",
        "    return response[0]\n",
        "\n",
        "with gr.Blocks() as demo:\n",
        "    gr.Markdown(\"## 🧠 Mental Health Chatbot\\n_I'm here to listen and support you._\")\n",
        "\n",
        "    # Inject CSS for button styling\n",
        "    gr.HTML(\"\"\"\n",
        "    <style>\n",
        "        .send-button button {\n",
        "            background-color: #4CAF50 !important; /* Green */\n",
        "            color: white !important;\n",
        "            padding: 2px 12px !important;\n",
        "            font-size: 20px !important;\n",
        "            height: 40px !important;\n",
        "            border: none;\n",
        "            border-radius: 6px;\n",
        "            cursor: pointer;\n",
        "        }\n",
        "        .send-button button:hover {\n",
        "            background-color: #45a049 !important; /* Slightly darker green on hover */\n",
        "        }\n",
        "    </style>\n",
        "    \"\"\")\n",
        "\n",
        "    chatbot = gr.Chatbot(label=\"Chat\", height=400, type=\"messages\")\n",
        "\n",
        "    with gr.Row(equal_height=True):\n",
        "        user_input = gr.Textbox(\n",
        "            placeholder=\"Type your message...\",\n",
        "            show_label=False,\n",
        "            scale=10\n",
        "        )\n",
        "        send_button = gr.Button(\n",
        "            value=\"Send ➤\",\n",
        "            elem_classes=[\"send-button\"],  # Class to target in CSS\n",
        "            scale=1\n",
        "        )\n",
        "\n",
        "    def respond(message, chat_history):\n",
        "        bot_reply = chatbot_response(message)\n",
        "        chat_history.append({\"role\": \"user\", \"content\": message})\n",
        "        chat_history.append({\"role\": \"assistant\", \"content\": bot_reply})\n",
        "        return \"\", chat_history\n",
        "\n",
        "    user_input.submit(respond, [user_input, chatbot], [user_input, chatbot])\n",
        "    send_button.click(respond, [user_input, chatbot], [user_input, chatbot])\n",
        "\n",
        "demo.launch()\n",
        "\n"
      ],
      "metadata": {
        "id": "6AOh7byRaQVq"
      },
      "execution_count": null,
      "outputs": []
    }
  ]
}